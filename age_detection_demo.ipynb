{
 "cells": [
  {
   "cell_type": "code",
   "execution_count": null,
   "id": "1520b489",
   "metadata": {},
   "outputs": [],
   "source": [
    "# Age Detection using Deep Learning: This notebook demonstrates the process of detecting age from facial images using a fine-tuned CNN model on the IMDB-WIKI dataset."
   ]
  },
  {
   "cell_type": "code",
   "execution_count": 2,
   "id": "7a5abc5c",
   "metadata": {},
   "outputs": [],
   "source": [
    "import os\n",
    "import cv2\n",
    "import numpy as np\n",
    "import pandas as pd\n",
    "import matplotlib.pyplot as plt\n",
    "import pickle\n",
    "from sklearn.metrics import mean_absolute_error"
   ]
  },
  {
   "cell_type": "code",
   "execution_count": 3,
   "id": "2287a308",
   "metadata": {},
   "outputs": [
    {
     "data": {
      "text/html": [
       "<div>\n",
       "<style scoped>\n",
       "    .dataframe tbody tr th:only-of-type {\n",
       "        vertical-align: middle;\n",
       "    }\n",
       "\n",
       "    .dataframe tbody tr th {\n",
       "        vertical-align: top;\n",
       "    }\n",
       "\n",
       "    .dataframe thead th {\n",
       "        text-align: right;\n",
       "    }\n",
       "</style>\n",
       "<table border=\"1\" class=\"dataframe\">\n",
       "  <thead>\n",
       "    <tr style=\"text-align: right;\">\n",
       "      <th></th>\n",
       "      <th>path</th>\n",
       "      <th>age</th>\n",
       "    </tr>\n",
       "  </thead>\n",
       "  <tbody>\n",
       "    <tr>\n",
       "      <th>0</th>\n",
       "      <td>24/nm0004624_rm1394516224_0-12-22_2013.jpg</td>\n",
       "      <td>42</td>\n",
       "    </tr>\n",
       "    <tr>\n",
       "      <th>1</th>\n",
       "      <td>54/nm0005054_rm978880768_0-5-21_2000.jpg</td>\n",
       "      <td>29</td>\n",
       "    </tr>\n",
       "    <tr>\n",
       "      <th>2</th>\n",
       "      <td>55/nm0005555_rm2332859648_0-11-18_2006.jpg</td>\n",
       "      <td>35</td>\n",
       "    </tr>\n",
       "    <tr>\n",
       "      <th>3</th>\n",
       "      <td>55/nm0005555_rm2469698304_0-11-18_2005.jpg</td>\n",
       "      <td>34</td>\n",
       "    </tr>\n",
       "    <tr>\n",
       "      <th>4</th>\n",
       "      <td>55/nm0005555_rm2702875904_0-11-18_2006.jpg</td>\n",
       "      <td>35</td>\n",
       "    </tr>\n",
       "  </tbody>\n",
       "</table>\n",
       "</div>"
      ],
      "text/plain": [
       "                                         path  age\n",
       "0  24/nm0004624_rm1394516224_0-12-22_2013.jpg   42\n",
       "1    54/nm0005054_rm978880768_0-5-21_2000.jpg   29\n",
       "2  55/nm0005555_rm2332859648_0-11-18_2006.jpg   35\n",
       "3  55/nm0005555_rm2469698304_0-11-18_2005.jpg   34\n",
       "4  55/nm0005555_rm2702875904_0-11-18_2006.jpg   35"
      ]
     },
     "execution_count": 3,
     "metadata": {},
     "output_type": "execute_result"
    }
   ],
   "source": [
    "df = pd.read_csv(\"processed.csv\")\n",
    "df.head()"
   ]
  },
  {
   "cell_type": "code",
   "execution_count": null,
   "id": "90acb592",
   "metadata": {},
   "outputs": [
    {
     "name": "stdout",
     "output_type": "stream",
     "text": [
      " CSV loaded. Total rows: 129\n",
      "Available columns: Index(['path', 'age'], dtype='object')\n",
      "Image path from CSV: 24/nm0004624_rm1394516224_0-12-22_2013.jpg\n",
      " File not found at path: 24/nm0004624_rm1394516224_0-12-22_2013.jpg\n"
     ]
    }
   ],
   "source": [
    "import pandas as pd\n",
    "import cv2\n",
    "import matplotlib.pyplot as plt\n",
    "import os\n",
    "\n",
    "df = pd.read_csv(\"processed.csv\")\n",
    "print(\" CSV loaded. Total rows:\", len(df))\n",
    "print(\"Available columns:\", df.columns)\n",
    "\n",
    "img_path = df.iloc[0]['path']\n",
    "print(\"Image path from CSV:\", img_path)\n",
    "\n",
    "if not os.path.exists(img_path):\n",
    "    print(\" File not found at path:\", img_path)\n",
    "else:\n",
    "    print(\"Image file found. Now reading...\")\n",
    "\n",
    "    image = cv2.imread(img_path)\n",
    "    \n",
    "    if image is None:\n",
    "        print(\"cv2.imread failed to read image. Might be corrupted or invalid path format.\")\n",
    "    else:\n",
    "        print(\"Image loaded successfully.\")\n",
    "        \n",
    "        image_rgb = cv2.cvtColor(image, cv2.COLOR_BGR2RGB)\n",
    "        plt.imshow(image_rgb)\n",
    "        plt.title(f\"Predicted Age: {df.iloc[0]['age']}\")\n",
    "        plt.axis('off')\n",
    "        plt.show()\n"
   ]
  },
  {
   "cell_type": "code",
   "execution_count": 16,
   "id": "2804161b",
   "metadata": {},
   "outputs": [
    {
     "name": "stdout",
     "output_type": "stream",
     "text": [
      "Summary of age column:\n",
      "count    129.000000\n",
      "mean      36.821705\n",
      "std        6.781696\n",
      "min       10.000000\n",
      "25%       34.000000\n",
      "50%       39.000000\n",
      "75%       41.000000\n",
      "max       44.000000\n",
      "Name: age, dtype: float64\n"
     ]
    },
    {
     "data": {
      "image/png": "[encoded data removed]",
      "text/plain": [
       "<Figure size 1000x500 with 1 Axes>"
      ]
     },
     "metadata": {},
     "output_type": "display_data"
    }
   ],
   "source": [
    "print(\"Summary of age column:\")\n",
    "print(df['age'].describe())\n",
    "\n",
    "plt.figure(figsize=(10, 5))\n",
    "plt.hist(df['age'], bins=30, color='orange', edgecolor='black')\n",
    "plt.title('Age Distribution')\n",
    "plt.xlabel('Age')\n",
    "plt.ylabel('Frequency')\n",
    "plt.grid(True)\n",
    "plt.show()\n"
   ]
  },
  {
   "cell_type": "code",
   "execution_count": 26,
   "id": "c4ddb4a7",
   "metadata": {},
   "outputs": [
    {
     "data": {
      "text/plain": [
       "<Figure size 1500x500 with 0 Axes>"
      ]
     },
     "metadata": {},
     "output_type": "display_data"
    }
   ],
   "source": [
    "import pandas as pd\n",
    "import cv2\n",
    "import matplotlib.pyplot as plt\n",
    "\n",
    "df = pd.read_csv(\"processed.csv\")\n",
    "\n",
    "sample_df = df.sample(5).reset_index(drop=True)\n",
    "\n",
    "plt.figure(figsize=(15, 5))\n",
    "for i, row in sample_df.iterrows():\n",
    "    img = cv2.imread(row['path'])\n",
    "    if img is not None:\n",
    "        img_rgb = cv2.cvtColor(img, cv2.COLOR_BGR2RGB)\n",
    "        plt.subplot(1, 5, i+1)\n",
    "        plt.imshow(img_rgb)\n",
    "        plt.title(f\"Age: {int(row['age'])}\")\n",
    "        plt.axis('off')\n",
    "plt.tight_layout()\n",
    "plt.show()\n"
   ]
  }
 ],
 "metadata": {
  "kernelspec": {
   "display_name": "venv",
   "language": "python",
   "name": "python3"
  },
  "language_info": {
   "codemirror_mode": {
    "name": "ipython",
    "version": 3
   },
   "file_extension": ".py",
   "mimetype": "text/x-python",
   "name": "python",
   "nbconvert_exporter": "python",
   "pygments_lexer": "ipython3",
   "version": "3.11.9"
  }
 },
 "nbformat": 4,
 "nbformat_minor": 5
}
